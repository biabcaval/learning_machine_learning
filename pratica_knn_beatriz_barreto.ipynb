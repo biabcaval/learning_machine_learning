{
  "cells": [
    {
      "cell_type": "markdown",
      "metadata": {
        "id": "0JFhnlk7at7A"
      },
      "source": [
        "# <font color=\"darkblue\"> Prática 02: Algoritmo k-NN </font>"
      ]
    },
    {
      "cell_type": "markdown",
      "metadata": {
        "id": "_Txy0UzyawTX"
      },
      "source": [
        "**Objetivos:**\n",
        "\n",
        "\n",
        "*   Aplicar o algoritmo k-NN a um problema prático.\n",
        "*   Apresentar as funções do Scikit-Learn que lidam com o k-NN.\n",
        "\n"
      ]
    },
    {
      "cell_type": "markdown",
      "metadata": {
        "id": "keyryvT2bIae"
      },
      "source": [
        "**Descrição:**\n",
        "\n",
        "Implemente duas versões de um classificador que usa o algoritmo k-NN para identificar dígitos escritos à mão a partir de um conjunto de imagens e compare os tempoa de execução. Na primeira versão, você deverá implementar o algoritmo k-NN conforme visto em sala de aula. Na segunda, você deverá usar a algoritmo k-NN da biblioteca Scikit-Learn. O conjunto de imagens a ser utilizado consiste no dataset <i> Digits </i> da biblioteca Scikit-Learn."
      ]
    },
    {
      "cell_type": "markdown",
      "metadata": {
        "id": "wWnD-OFybVw1"
      },
      "source": [
        "# <font color=\"darkblue\"> Solução </font>"
      ]
    },
    {
      "cell_type": "markdown",
      "metadata": {
        "id": "ioVFway7cWiw"
      },
      "source": [
        "### Descrição do Dataset"
      ]
    },
    {
      "cell_type": "code",
      "execution_count": 1,
      "metadata": {
        "colab": {
          "base_uri": "https://localhost:8080/"
        },
        "id": "Lh0fUl5BbR5J",
        "outputId": "d644a9bc-606f-479f-b10a-82621c1a2f63"
      },
      "outputs": [
        {
          "output_type": "stream",
          "name": "stdout",
          "text": [
            ".. _digits_dataset:\n",
            "\n",
            "Optical recognition of handwritten digits dataset\n",
            "--------------------------------------------------\n",
            "\n",
            "**Data Set Characteristics:**\n",
            "\n",
            "    :Number of Instances: 1797\n",
            "    :Number of Attributes: 64\n",
            "    :Attribute Information: 8x8 image of integer pixels in the range 0..16.\n",
            "    :Missing Attribute Values: None\n",
            "    :Creator: E. Alpaydin (alpaydin '@' boun.edu.tr)\n",
            "    :Date: July; 1998\n",
            "\n",
            "This is a copy of the test set of the UCI ML hand-written digits datasets\n",
            "https://archive.ics.uci.edu/ml/datasets/Optical+Recognition+of+Handwritten+Digits\n",
            "\n",
            "The data set contains images of hand-written digits: 10 classes where\n",
            "each class refers to a digit.\n",
            "\n",
            "Preprocessing programs made available by NIST were used to extract\n",
            "normalized bitmaps of handwritten digits from a preprinted form. From a\n",
            "total of 43 people, 30 contributed to the training set and different 13\n",
            "to the test set. 32x32 bitmaps are divided into nonoverlapping blocks of\n",
            "4x4 and the number of on pixels are counted in each block. This generates\n",
            "an input matrix of 8x8 where each element is an integer in the range\n",
            "0..16. This reduces dimensionality and gives invariance to small\n",
            "distortions.\n",
            "\n",
            "For info on NIST preprocessing routines, see M. D. Garris, J. L. Blue, G.\n",
            "T. Candela, D. L. Dimmick, J. Geist, P. J. Grother, S. A. Janet, and C.\n",
            "L. Wilson, NIST Form-Based Handprint Recognition System, NISTIR 5469,\n",
            "1994.\n",
            "\n",
            ".. topic:: References\n",
            "\n",
            "  - C. Kaynak (1995) Methods of Combining Multiple Classifiers and Their\n",
            "    Applications to Handwritten Digit Recognition, MSc Thesis, Institute of\n",
            "    Graduate Studies in Science and Engineering, Bogazici University.\n",
            "  - E. Alpaydin, C. Kaynak (1998) Cascading Classifiers, Kybernetika.\n",
            "  - Ken Tang and Ponnuthurai N. Suganthan and Xi Yao and A. Kai Qin.\n",
            "    Linear dimensionalityreduction using relevance weighted LDA. School of\n",
            "    Electrical and Electronic Engineering Nanyang Technological University.\n",
            "    2005.\n",
            "  - Claudio Gentile. A New Approximate Maximal Margin Classification\n",
            "    Algorithm. NIPS. 2000.\n",
            "\n"
          ]
        }
      ],
      "source": [
        "#%matplotlib inline\n",
        "import matplotlib.pyplot as plt\n",
        "from sklearn.datasets import load_digits\n",
        "from sklearn.model_selection import train_test_split\n",
        "from sklearn.neighbors import KNeighborsClassifier\n",
        "\n",
        "digits = load_digits()\n",
        "print(digits.DESCR)"
      ]
    },
    {
      "cell_type": "markdown",
      "metadata": {
        "id": "OsJHo16Vypui"
      },
      "source": [
        "### Exploração do Dataset"
      ]
    },
    {
      "cell_type": "code",
      "execution_count": 2,
      "metadata": {
        "colab": {
          "base_uri": "https://localhost:8080/"
        },
        "id": "dLWAS9VUd0lm",
        "outputId": "79ffd810-97b3-4042-a50a-6e4aae114751"
      },
      "outputs": [
        {
          "output_type": "stream",
          "name": "stdout",
          "text": [
            "[0 1 2 ... 8 9 8]\n",
            "2\n",
            "(1797, 64)\n",
            "<class 'numpy.ndarray'>\n",
            "[[ 0.  0.  1.  9. 15. 11.  0.  0.]\n",
            " [ 0.  0. 11. 16.  8. 14.  6.  0.]\n",
            " [ 0.  2. 16. 10.  0.  9.  9.  0.]\n",
            " [ 0.  1. 16.  4.  0.  8.  8.  0.]\n",
            " [ 0.  4. 16.  4.  0.  8.  8.  0.]\n",
            " [ 0.  1. 16.  5.  1. 11.  3.  0.]\n",
            " [ 0.  0. 12. 12. 10. 10.  0.  0.]\n",
            " [ 0.  0.  1. 10. 13.  3.  0.  0.]]\n",
            "1797\n"
          ]
        }
      ],
      "source": [
        "print(digits.target[0:])\n",
        "print(digits.target[12]) # labels dos dados\n",
        "print(digits.data.shape) # 1797 imagens e 64 pixels por imagem\n",
        "print(type(digits.data)) # cada imagem é um np.array\n",
        "print(digits.images[10]) # exibe os pixels contidos em uma imagem\n",
        "print(len(digits.target))"
      ]
    },
    {
      "cell_type": "markdown",
      "metadata": {
        "id": "_JtDQu4Bcp1X"
      },
      "source": [
        "### Exibição das imagens"
      ]
    },
    {
      "cell_type": "code",
      "execution_count": 3,
      "metadata": {
        "colab": {
          "base_uri": "https://localhost:8080/",
          "height": 207
        },
        "id": "5_8VQTOfb3c9",
        "outputId": "66fcd28e-afaa-4d71-8838-573859810dab"
      },
      "outputs": [
        {
          "output_type": "display_data",
          "data": {
            "text/plain": [
              "<Figure size 200x200 with 4 Axes>"
            ],
            "image/png": "[encoded data removed]"
          },
          "metadata": {}
        }
      ],
      "source": [
        "figure, axes = plt.subplots(nrows=2, ncols=2, figsize=(2, 2))\n",
        "\n",
        "for item in zip(axes.ravel(), digits.images, digits.target):\n",
        "    axes, image, target = item\n",
        "    axes.imshow(image, cmap=plt.cm.gray_r)\n",
        "    axes.set_xticks([])\n",
        "    axes.set_yticks([])\n",
        "    axes.set_title(target)\n",
        "\n",
        "# usado para um numero nao ficar em cima do outro\n",
        "plt.tight_layout()"
      ]
    },
    {
      "cell_type": "markdown",
      "metadata": {
        "id": "8d8JkaJKcv9O"
      },
      "source": [
        "### Implementação da Versão 1 do classificador\n",
        "Divida os dados em dois conjuntos, de treino e teste, implemente o Algoritmo k-NN conforme discutido em sala de aula e exiba a acurácia da classificação e o tempo de execução."
      ]
    },
    {
      "cell_type": "code",
      "source": [
        "import numpy as np\n",
        "import math\n",
        "from collections import Counter"
      ],
      "metadata": {
        "id": "ceaEzpfx8pbW"
      },
      "execution_count": 51,
      "outputs": []
    },
    {
      "cell_type": "code",
      "execution_count": 52,
      "metadata": {
        "id": "i8u5ICkbypum"
      },
      "outputs": [],
      "source": [
        "test_size = math.ceil(1797 * 0.2)\n",
        "test_data = digits.data[:test_size]\n",
        "test_label = digits.target[:test_size]\n",
        "train_data = digits.data[test_size:]\n",
        "train_label = digits.target[test_size:]\n",
        "\n",
        "\n",
        "def euclidean_distance(x1, x2):\n",
        "  distance = np.sqrt(np.sum((x1 - x2)**2))\n",
        "  return distance\n",
        "\n",
        "class knn:\n",
        "  def __init__(self, k=3):\n",
        "    self.k = k\n",
        "\n",
        "\n",
        "  # transforma a matriz em um vetor pra poder plotar cada pixel como sendo um ponto\n",
        "  def flat_vector(self, X):\n",
        "    flat = X.reshape(-1)\n",
        "\n",
        "    return flat\n",
        "\n",
        "  def fit(self, listaImagensTreino, listaRotulosTreino):\n",
        "    self.listaPontosTreino = [self.flat_vector(p) for p in listaImagensTreino] # lista com todos os vetores das imagens de treino\n",
        "    self.conjLabelsTreino = self.flat_vector(listaRotulosTreino) # rotulos dos dados\n",
        "    # print(self.listaPontosTreino)\n",
        "    # print(self.conjLabelsTreino)\n",
        "\n",
        "  def predict(self, listaPontosTeste): # para uma lista de X pontos a serem classificados\n",
        "    predictions = [self._predict(x) for x in listaPontosTeste]\n",
        "    return predictions\n",
        "\n",
        "  def _predict(self, x): # para um único ponto x a ser classificado\n",
        "    distances = [euclidean_distance(x, x_train) for x_train in self.listaPontosTreino]\n",
        "\n",
        "    indexes_sorted = np.argsort(distances)[:self.k] # retorna os k índices de distances(do indice da menor distance pra maior)\n",
        "    k_nearest_labels = [self.conjLabelsTreino[i] for i in indexes_sorted] # labels dos índices mais prox\n",
        "\n",
        "    # votos para escolher a classif\n",
        "    new_label = Counter(k_nearest_labels).most_common()[0][0]\n",
        "\n",
        "    '''\n",
        "    print( new_label = Counter(k_nearest_labels).most_common()) # (label, quantas vezes o label ocorreu)\n",
        "\n",
        "    [[(3, 1), (1, 1), (2, 1)], [(3, 1), (1, 1), (2, 1)], [(3, 1), (2, 1), (1, 1)], [(2, 1), (3, 1), (1, 1)], [(3, 1), (2, 1), (1, 1)], [(3, 1), (1, 1), (2, 1)]]\n",
        "\n",
        "    '''\n",
        "    return new_label\n",
        "\n",
        "\n"
      ]
    },
    {
      "cell_type": "code",
      "source": [
        "classif = knn(k=3)\n",
        "classif.fit(train_data, train_label)\n",
        "predictions = classif.predict(test_data)"
      ],
      "metadata": {
        "id": "bbwkBqvgEVV-"
      },
      "execution_count": 53,
      "outputs": []
    },
    {
      "cell_type": "code",
      "source": [
        "import matplotlib.pyplot as plt\n",
        "import numpy as np\n",
        "\n",
        "num_imagens = 3\n",
        "\n",
        "fig, axes = plt.subplots(1, num_imagens, figsize=(12, 4))\n",
        "\n",
        "for i in range(num_imagens):\n",
        "    imagem = classif.listaPontosTreino[i].reshape(8, 8)\n",
        "\n",
        "    axes[i].imshow(imagem, cmap='gray')\n",
        "    axes[i].set_title(f'Imagem {i+1}')\n",
        "\n",
        "plt.tight_layout()\n",
        "plt.show()"
      ],
      "metadata": {
        "colab": {
          "base_uri": "https://localhost:8080/",
          "height": 362
        },
        "id": "3XGKZjicGN4h",
        "outputId": "f1236080-cb66-4955-9298-5864e76becf3"
      },
      "execution_count": 57,
      "outputs": [
        {
          "output_type": "display_data",
          "data": {
            "text/plain": [
              "<Figure size 1200x400 with 3 Axes>"
            ],
            "image/png": "[encoded data removed]"
          },
          "metadata": {}
        }
      ]
    },
    {
      "cell_type": "code",
      "source": [
        "acc_sum = 0\n",
        "\n",
        "for p,l in zip(predictions, test_label):\n",
        "  if p == l:\n",
        "    acc_sum += 1\n",
        "\n",
        "print(\"Accuracy: \", (acc_sum/len(predictions)) * 100, \"%\")"
      ],
      "metadata": {
        "colab": {
          "base_uri": "https://localhost:8080/"
        },
        "id": "eNwPS6kaAi4J",
        "outputId": "05fdb087-e6f4-4d78-a0ea-c91f795beb71"
      },
      "execution_count": 54,
      "outputs": [
        {
          "output_type": "stream",
          "name": "stdout",
          "text": [
            "Accuracy:  95.55555555555556 %\n"
          ]
        }
      ]
    },
    {
      "cell_type": "markdown",
      "metadata": {
        "id": "qNJNSUcsypum"
      },
      "source": [
        "### Implementação da Versão 2 do classificador\n",
        "Utilize a função train_test_split() da bibioteca Scikit-Learn para separar os dados em treino e teste e o classificador k-NN da própria biblioteca para identificação dos dígitos. Ao final, exiba a classificação e o tempo de execução."
      ]
    },
    {
      "cell_type": "code",
      "execution_count": 55,
      "metadata": {
        "id": "4uvAVl5Cc6nc",
        "scrolled": true,
        "colab": {
          "base_uri": "https://localhost:8080/"
        },
        "outputId": "54bece6e-7202-472b-9152-27810cc20214"
      },
      "outputs": [
        {
          "output_type": "stream",
          "name": "stdout",
          "text": [
            "Accuracy: 0.9833333333333333\n"
          ]
        }
      ],
      "source": [
        "from sklearn.neighbors import KNeighborsClassifier\n",
        "from sklearn.model_selection import train_test_split\n",
        "from sklearn.datasets import load_digits # If you're using the digits dataset\n",
        "from sklearn.metrics import accuracy_score\n",
        "\n",
        "\n",
        "digits = load_digits()\n",
        "X = digits.data\n",
        "y = digits.target\n",
        "\n",
        "X_train, X_test, y_train, y_test = train_test_split(X, y, test_size=0.2, random_state=42)\n",
        "\n",
        "knn = KNeighborsClassifier(n_neighbors=3)  # Set the number of neighbors (k)\n",
        "knn.fit(X_train, y_train)\n",
        "y_pred = knn.predict(X_test)\n",
        "\n",
        "\n",
        "accuracy = accuracy_score(y_test, y_pred)\n",
        "print(\"Accuracy:\", accuracy)"
      ]
    },
    {
      "cell_type": "markdown",
      "source": [
        "### Análise dos resultados\n",
        "\n",
        "**Teste manual**\n",
        "\n",
        "Conjunto de Treino: 80%\n",
        "\n",
        "Conjunto de Teste: 20%\n",
        "\n",
        "Tempo de Execução: 4s\n",
        "\n",
        "Acurácia: 95.5%\n",
        "\n",
        "**Teste scikitlearn**\n",
        "\n",
        "Conjunto de Treino: 80%\n",
        "\n",
        "Conjunto de Teste: 20%\n",
        "\n",
        "Tempo de Execução: menos de 1s\n",
        "\n",
        "Acurácia:  98.3%"
      ],
      "metadata": {
        "id": "1jLTzylKFOn2"
      }
    }
  ],
  "metadata": {
    "colab": {
      "collapsed_sections": [
        "ioVFway7cWiw",
        "_JtDQu4Bcp1X",
        "8d8JkaJKcv9O"
      ],
      "provenance": [],
      "gpuType": "T4"
    },
    "kernelspec": {
      "display_name": "Python 3",
      "name": "python3"
    },
    "language_info": {
      "codemirror_mode": {
        "name": "ipython",
        "version": 3
      },
      "file_extension": ".py",
      "mimetype": "text/x-python",
      "name": "python",
      "nbconvert_exporter": "python",
      "pygments_lexer": "ipython3",
      "version": "3.10.9"
    },
    "accelerator": "GPU"
  },
  "nbformat": 4,
  "nbformat_minor": 0
}